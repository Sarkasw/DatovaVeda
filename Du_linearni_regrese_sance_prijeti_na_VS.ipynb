{
 "cells": [
  {
   "cell_type": "code",
<<<<<<< HEAD
   "execution_count": 1,
=======
   "execution_count": 2,
>>>>>>> 47090ca1888f7903a616d08c04fc057146cdd218
   "metadata": {},
   "outputs": [
    {
     "ename": "FileNotFoundError",
     "evalue": "[Errno 2] No such file or directory: 'adm_data.csv'",
     "output_type": "error",
     "traceback": [
      "\u001b[1;31m---------------------------------------------------------------------------\u001b[0m",
      "\u001b[1;31mFileNotFoundError\u001b[0m                         Traceback (most recent call last)",
<<<<<<< HEAD
      "Cell \u001b[1;32mIn[1], line 9\u001b[0m\n\u001b[0;32m      6\u001b[0m \u001b[38;5;28;01mimport\u001b[39;00m \u001b[38;5;21;01mstatsmodels\u001b[39;00m\u001b[38;5;21;01m.\u001b[39;00m\u001b[38;5;21;01mformula\u001b[39;00m\u001b[38;5;21;01m.\u001b[39;00m\u001b[38;5;21;01mapi\u001b[39;00m \u001b[38;5;28;01mas\u001b[39;00m \u001b[38;5;21;01msmf\u001b[39;00m\n\u001b[0;32m      7\u001b[0m \u001b[38;5;28;01mimport\u001b[39;00m \u001b[38;5;21;01mmatplotlib\u001b[39;00m\u001b[38;5;21;01m.\u001b[39;00m\u001b[38;5;21;01mpyplot\u001b[39;00m \u001b[38;5;28;01mas\u001b[39;00m \u001b[38;5;21;01mplt\u001b[39;00m\n\u001b[1;32m----> 9\u001b[0m data \u001b[38;5;241m=\u001b[39m \u001b[43mpd\u001b[49m\u001b[38;5;241;43m.\u001b[39;49m\u001b[43mread_csv\u001b[49m\u001b[43m(\u001b[49m\u001b[38;5;124;43m\"\u001b[39;49m\u001b[38;5;124;43madm_data.csv\u001b[39;49m\u001b[38;5;124;43m\"\u001b[39;49m\u001b[43m)\u001b[49m\n\u001b[0;32m     10\u001b[0m data\u001b[38;5;241m.\u001b[39mhead()\n",
=======
      "Cell \u001b[1;32mIn[2], line 9\u001b[0m\n\u001b[0;32m      6\u001b[0m \u001b[38;5;28;01mimport\u001b[39;00m \u001b[38;5;21;01mstatsmodels\u001b[39;00m\u001b[38;5;21;01m.\u001b[39;00m\u001b[38;5;21;01mformula\u001b[39;00m\u001b[38;5;21;01m.\u001b[39;00m\u001b[38;5;21;01mapi\u001b[39;00m \u001b[38;5;28;01mas\u001b[39;00m \u001b[38;5;21;01msmf\u001b[39;00m\n\u001b[0;32m      7\u001b[0m \u001b[38;5;28;01mimport\u001b[39;00m \u001b[38;5;21;01mmatplotlib\u001b[39;00m\u001b[38;5;21;01m.\u001b[39;00m\u001b[38;5;21;01mpyplot\u001b[39;00m \u001b[38;5;28;01mas\u001b[39;00m \u001b[38;5;21;01mplt\u001b[39;00m\n\u001b[1;32m----> 9\u001b[0m data \u001b[38;5;241m=\u001b[39m \u001b[43mpd\u001b[49m\u001b[38;5;241;43m.\u001b[39;49m\u001b[43mread_csv\u001b[49m\u001b[43m(\u001b[49m\u001b[38;5;124;43m\"\u001b[39;49m\u001b[38;5;124;43madm_data.csv\u001b[39;49m\u001b[38;5;124;43m\"\u001b[39;49m\u001b[43m)\u001b[49m\n\u001b[0;32m     10\u001b[0m data\u001b[38;5;241m.\u001b[39mhead()\n",
>>>>>>> 47090ca1888f7903a616d08c04fc057146cdd218
      "File \u001b[1;32mc:\\Users\\sarka\\AppData\\Local\\Programs\\Python\\Python311\\Lib\\site-packages\\pandas\\io\\parsers\\readers.py:948\u001b[0m, in \u001b[0;36mread_csv\u001b[1;34m(filepath_or_buffer, sep, delimiter, header, names, index_col, usecols, dtype, engine, converters, true_values, false_values, skipinitialspace, skiprows, skipfooter, nrows, na_values, keep_default_na, na_filter, verbose, skip_blank_lines, parse_dates, infer_datetime_format, keep_date_col, date_parser, date_format, dayfirst, cache_dates, iterator, chunksize, compression, thousands, decimal, lineterminator, quotechar, quoting, doublequote, escapechar, comment, encoding, encoding_errors, dialect, on_bad_lines, delim_whitespace, low_memory, memory_map, float_precision, storage_options, dtype_backend)\u001b[0m\n\u001b[0;32m    935\u001b[0m kwds_defaults \u001b[38;5;241m=\u001b[39m _refine_defaults_read(\n\u001b[0;32m    936\u001b[0m     dialect,\n\u001b[0;32m    937\u001b[0m     delimiter,\n\u001b[1;32m   (...)\u001b[0m\n\u001b[0;32m    944\u001b[0m     dtype_backend\u001b[38;5;241m=\u001b[39mdtype_backend,\n\u001b[0;32m    945\u001b[0m )\n\u001b[0;32m    946\u001b[0m kwds\u001b[38;5;241m.\u001b[39mupdate(kwds_defaults)\n\u001b[1;32m--> 948\u001b[0m \u001b[38;5;28;01mreturn\u001b[39;00m \u001b[43m_read\u001b[49m\u001b[43m(\u001b[49m\u001b[43mfilepath_or_buffer\u001b[49m\u001b[43m,\u001b[49m\u001b[43m \u001b[49m\u001b[43mkwds\u001b[49m\u001b[43m)\u001b[49m\n",
      "File \u001b[1;32mc:\\Users\\sarka\\AppData\\Local\\Programs\\Python\\Python311\\Lib\\site-packages\\pandas\\io\\parsers\\readers.py:611\u001b[0m, in \u001b[0;36m_read\u001b[1;34m(filepath_or_buffer, kwds)\u001b[0m\n\u001b[0;32m    608\u001b[0m _validate_names(kwds\u001b[38;5;241m.\u001b[39mget(\u001b[38;5;124m\"\u001b[39m\u001b[38;5;124mnames\u001b[39m\u001b[38;5;124m\"\u001b[39m, \u001b[38;5;28;01mNone\u001b[39;00m))\n\u001b[0;32m    610\u001b[0m \u001b[38;5;66;03m# Create the parser.\u001b[39;00m\n\u001b[1;32m--> 611\u001b[0m parser \u001b[38;5;241m=\u001b[39m \u001b[43mTextFileReader\u001b[49m\u001b[43m(\u001b[49m\u001b[43mfilepath_or_buffer\u001b[49m\u001b[43m,\u001b[49m\u001b[43m \u001b[49m\u001b[38;5;241;43m*\u001b[39;49m\u001b[38;5;241;43m*\u001b[39;49m\u001b[43mkwds\u001b[49m\u001b[43m)\u001b[49m\n\u001b[0;32m    613\u001b[0m \u001b[38;5;28;01mif\u001b[39;00m chunksize \u001b[38;5;129;01mor\u001b[39;00m iterator:\n\u001b[0;32m    614\u001b[0m     \u001b[38;5;28;01mreturn\u001b[39;00m parser\n",
      "File \u001b[1;32mc:\\Users\\sarka\\AppData\\Local\\Programs\\Python\\Python311\\Lib\\site-packages\\pandas\\io\\parsers\\readers.py:1448\u001b[0m, in \u001b[0;36mTextFileReader.__init__\u001b[1;34m(self, f, engine, **kwds)\u001b[0m\n\u001b[0;32m   1445\u001b[0m     \u001b[38;5;28mself\u001b[39m\u001b[38;5;241m.\u001b[39moptions[\u001b[38;5;124m\"\u001b[39m\u001b[38;5;124mhas_index_names\u001b[39m\u001b[38;5;124m\"\u001b[39m] \u001b[38;5;241m=\u001b[39m kwds[\u001b[38;5;124m\"\u001b[39m\u001b[38;5;124mhas_index_names\u001b[39m\u001b[38;5;124m\"\u001b[39m]\n\u001b[0;32m   1447\u001b[0m \u001b[38;5;28mself\u001b[39m\u001b[38;5;241m.\u001b[39mhandles: IOHandles \u001b[38;5;241m|\u001b[39m \u001b[38;5;28;01mNone\u001b[39;00m \u001b[38;5;241m=\u001b[39m \u001b[38;5;28;01mNone\u001b[39;00m\n\u001b[1;32m-> 1448\u001b[0m \u001b[38;5;28mself\u001b[39m\u001b[38;5;241m.\u001b[39m_engine \u001b[38;5;241m=\u001b[39m \u001b[38;5;28;43mself\u001b[39;49m\u001b[38;5;241;43m.\u001b[39;49m\u001b[43m_make_engine\u001b[49m\u001b[43m(\u001b[49m\u001b[43mf\u001b[49m\u001b[43m,\u001b[49m\u001b[43m \u001b[49m\u001b[38;5;28;43mself\u001b[39;49m\u001b[38;5;241;43m.\u001b[39;49m\u001b[43mengine\u001b[49m\u001b[43m)\u001b[49m\n",
      "File \u001b[1;32mc:\\Users\\sarka\\AppData\\Local\\Programs\\Python\\Python311\\Lib\\site-packages\\pandas\\io\\parsers\\readers.py:1705\u001b[0m, in \u001b[0;36mTextFileReader._make_engine\u001b[1;34m(self, f, engine)\u001b[0m\n\u001b[0;32m   1703\u001b[0m     \u001b[38;5;28;01mif\u001b[39;00m \u001b[38;5;124m\"\u001b[39m\u001b[38;5;124mb\u001b[39m\u001b[38;5;124m\"\u001b[39m \u001b[38;5;129;01mnot\u001b[39;00m \u001b[38;5;129;01min\u001b[39;00m mode:\n\u001b[0;32m   1704\u001b[0m         mode \u001b[38;5;241m+\u001b[39m\u001b[38;5;241m=\u001b[39m \u001b[38;5;124m\"\u001b[39m\u001b[38;5;124mb\u001b[39m\u001b[38;5;124m\"\u001b[39m\n\u001b[1;32m-> 1705\u001b[0m \u001b[38;5;28mself\u001b[39m\u001b[38;5;241m.\u001b[39mhandles \u001b[38;5;241m=\u001b[39m \u001b[43mget_handle\u001b[49m\u001b[43m(\u001b[49m\n\u001b[0;32m   1706\u001b[0m \u001b[43m    \u001b[49m\u001b[43mf\u001b[49m\u001b[43m,\u001b[49m\n\u001b[0;32m   1707\u001b[0m \u001b[43m    \u001b[49m\u001b[43mmode\u001b[49m\u001b[43m,\u001b[49m\n\u001b[0;32m   1708\u001b[0m \u001b[43m    \u001b[49m\u001b[43mencoding\u001b[49m\u001b[38;5;241;43m=\u001b[39;49m\u001b[38;5;28;43mself\u001b[39;49m\u001b[38;5;241;43m.\u001b[39;49m\u001b[43moptions\u001b[49m\u001b[38;5;241;43m.\u001b[39;49m\u001b[43mget\u001b[49m\u001b[43m(\u001b[49m\u001b[38;5;124;43m\"\u001b[39;49m\u001b[38;5;124;43mencoding\u001b[39;49m\u001b[38;5;124;43m\"\u001b[39;49m\u001b[43m,\u001b[49m\u001b[43m \u001b[49m\u001b[38;5;28;43;01mNone\u001b[39;49;00m\u001b[43m)\u001b[49m\u001b[43m,\u001b[49m\n\u001b[0;32m   1709\u001b[0m \u001b[43m    \u001b[49m\u001b[43mcompression\u001b[49m\u001b[38;5;241;43m=\u001b[39;49m\u001b[38;5;28;43mself\u001b[39;49m\u001b[38;5;241;43m.\u001b[39;49m\u001b[43moptions\u001b[49m\u001b[38;5;241;43m.\u001b[39;49m\u001b[43mget\u001b[49m\u001b[43m(\u001b[49m\u001b[38;5;124;43m\"\u001b[39;49m\u001b[38;5;124;43mcompression\u001b[39;49m\u001b[38;5;124;43m\"\u001b[39;49m\u001b[43m,\u001b[49m\u001b[43m \u001b[49m\u001b[38;5;28;43;01mNone\u001b[39;49;00m\u001b[43m)\u001b[49m\u001b[43m,\u001b[49m\n\u001b[0;32m   1710\u001b[0m \u001b[43m    \u001b[49m\u001b[43mmemory_map\u001b[49m\u001b[38;5;241;43m=\u001b[39;49m\u001b[38;5;28;43mself\u001b[39;49m\u001b[38;5;241;43m.\u001b[39;49m\u001b[43moptions\u001b[49m\u001b[38;5;241;43m.\u001b[39;49m\u001b[43mget\u001b[49m\u001b[43m(\u001b[49m\u001b[38;5;124;43m\"\u001b[39;49m\u001b[38;5;124;43mmemory_map\u001b[39;49m\u001b[38;5;124;43m\"\u001b[39;49m\u001b[43m,\u001b[49m\u001b[43m \u001b[49m\u001b[38;5;28;43;01mFalse\u001b[39;49;00m\u001b[43m)\u001b[49m\u001b[43m,\u001b[49m\n\u001b[0;32m   1711\u001b[0m \u001b[43m    \u001b[49m\u001b[43mis_text\u001b[49m\u001b[38;5;241;43m=\u001b[39;49m\u001b[43mis_text\u001b[49m\u001b[43m,\u001b[49m\n\u001b[0;32m   1712\u001b[0m \u001b[43m    \u001b[49m\u001b[43merrors\u001b[49m\u001b[38;5;241;43m=\u001b[39;49m\u001b[38;5;28;43mself\u001b[39;49m\u001b[38;5;241;43m.\u001b[39;49m\u001b[43moptions\u001b[49m\u001b[38;5;241;43m.\u001b[39;49m\u001b[43mget\u001b[49m\u001b[43m(\u001b[49m\u001b[38;5;124;43m\"\u001b[39;49m\u001b[38;5;124;43mencoding_errors\u001b[39;49m\u001b[38;5;124;43m\"\u001b[39;49m\u001b[43m,\u001b[49m\u001b[43m \u001b[49m\u001b[38;5;124;43m\"\u001b[39;49m\u001b[38;5;124;43mstrict\u001b[39;49m\u001b[38;5;124;43m\"\u001b[39;49m\u001b[43m)\u001b[49m\u001b[43m,\u001b[49m\n\u001b[0;32m   1713\u001b[0m \u001b[43m    \u001b[49m\u001b[43mstorage_options\u001b[49m\u001b[38;5;241;43m=\u001b[39;49m\u001b[38;5;28;43mself\u001b[39;49m\u001b[38;5;241;43m.\u001b[39;49m\u001b[43moptions\u001b[49m\u001b[38;5;241;43m.\u001b[39;49m\u001b[43mget\u001b[49m\u001b[43m(\u001b[49m\u001b[38;5;124;43m\"\u001b[39;49m\u001b[38;5;124;43mstorage_options\u001b[39;49m\u001b[38;5;124;43m\"\u001b[39;49m\u001b[43m,\u001b[49m\u001b[43m \u001b[49m\u001b[38;5;28;43;01mNone\u001b[39;49;00m\u001b[43m)\u001b[49m\u001b[43m,\u001b[49m\n\u001b[0;32m   1714\u001b[0m \u001b[43m\u001b[49m\u001b[43m)\u001b[49m\n\u001b[0;32m   1715\u001b[0m \u001b[38;5;28;01massert\u001b[39;00m \u001b[38;5;28mself\u001b[39m\u001b[38;5;241m.\u001b[39mhandles \u001b[38;5;129;01mis\u001b[39;00m \u001b[38;5;129;01mnot\u001b[39;00m \u001b[38;5;28;01mNone\u001b[39;00m\n\u001b[0;32m   1716\u001b[0m f \u001b[38;5;241m=\u001b[39m \u001b[38;5;28mself\u001b[39m\u001b[38;5;241m.\u001b[39mhandles\u001b[38;5;241m.\u001b[39mhandle\n",
      "File \u001b[1;32mc:\\Users\\sarka\\AppData\\Local\\Programs\\Python\\Python311\\Lib\\site-packages\\pandas\\io\\common.py:863\u001b[0m, in \u001b[0;36mget_handle\u001b[1;34m(path_or_buf, mode, encoding, compression, memory_map, is_text, errors, storage_options)\u001b[0m\n\u001b[0;32m    858\u001b[0m \u001b[38;5;28;01melif\u001b[39;00m \u001b[38;5;28misinstance\u001b[39m(handle, \u001b[38;5;28mstr\u001b[39m):\n\u001b[0;32m    859\u001b[0m     \u001b[38;5;66;03m# Check whether the filename is to be opened in binary mode.\u001b[39;00m\n\u001b[0;32m    860\u001b[0m     \u001b[38;5;66;03m# Binary mode does not support 'encoding' and 'newline'.\u001b[39;00m\n\u001b[0;32m    861\u001b[0m     \u001b[38;5;28;01mif\u001b[39;00m ioargs\u001b[38;5;241m.\u001b[39mencoding \u001b[38;5;129;01mand\u001b[39;00m \u001b[38;5;124m\"\u001b[39m\u001b[38;5;124mb\u001b[39m\u001b[38;5;124m\"\u001b[39m \u001b[38;5;129;01mnot\u001b[39;00m \u001b[38;5;129;01min\u001b[39;00m ioargs\u001b[38;5;241m.\u001b[39mmode:\n\u001b[0;32m    862\u001b[0m         \u001b[38;5;66;03m# Encoding\u001b[39;00m\n\u001b[1;32m--> 863\u001b[0m         handle \u001b[38;5;241m=\u001b[39m \u001b[38;5;28;43mopen\u001b[39;49m\u001b[43m(\u001b[49m\n\u001b[0;32m    864\u001b[0m \u001b[43m            \u001b[49m\u001b[43mhandle\u001b[49m\u001b[43m,\u001b[49m\n\u001b[0;32m    865\u001b[0m \u001b[43m            \u001b[49m\u001b[43mioargs\u001b[49m\u001b[38;5;241;43m.\u001b[39;49m\u001b[43mmode\u001b[49m\u001b[43m,\u001b[49m\n\u001b[0;32m    866\u001b[0m \u001b[43m            \u001b[49m\u001b[43mencoding\u001b[49m\u001b[38;5;241;43m=\u001b[39;49m\u001b[43mioargs\u001b[49m\u001b[38;5;241;43m.\u001b[39;49m\u001b[43mencoding\u001b[49m\u001b[43m,\u001b[49m\n\u001b[0;32m    867\u001b[0m \u001b[43m            \u001b[49m\u001b[43merrors\u001b[49m\u001b[38;5;241;43m=\u001b[39;49m\u001b[43merrors\u001b[49m\u001b[43m,\u001b[49m\n\u001b[0;32m    868\u001b[0m \u001b[43m            \u001b[49m\u001b[43mnewline\u001b[49m\u001b[38;5;241;43m=\u001b[39;49m\u001b[38;5;124;43m\"\u001b[39;49m\u001b[38;5;124;43m\"\u001b[39;49m\u001b[43m,\u001b[49m\n\u001b[0;32m    869\u001b[0m \u001b[43m        \u001b[49m\u001b[43m)\u001b[49m\n\u001b[0;32m    870\u001b[0m     \u001b[38;5;28;01melse\u001b[39;00m:\n\u001b[0;32m    871\u001b[0m         \u001b[38;5;66;03m# Binary mode\u001b[39;00m\n\u001b[0;32m    872\u001b[0m         handle \u001b[38;5;241m=\u001b[39m \u001b[38;5;28mopen\u001b[39m(handle, ioargs\u001b[38;5;241m.\u001b[39mmode)\n",
      "\u001b[1;31mFileNotFoundError\u001b[0m: [Errno 2] No such file or directory: 'adm_data.csv'"
     ]
    }
   ],
   "source": [
    "import pandas as pd\n",
    "import seaborn as sns\n",
    "from scipy import stats\n",
    "import numpy as np\n",
    "import statsmodels.api as sm\n",
    "import statsmodels.formula.api as smf\n",
    "import matplotlib.pyplot as plt\n",
    "\n",
    "data = pd.read_csv(\"adm_data.csv\")\n",
    "data.head()"
   ]
  },
  {
   "cell_type": "code",
   "execution_count": null,
   "metadata": {},
   "outputs": [
    {
     "data": {
      "text/html": [
       "<div>\n",
       "<style scoped>\n",
       "    .dataframe tbody tr th:only-of-type {\n",
       "        vertical-align: middle;\n",
       "    }\n",
       "\n",
       "    .dataframe tbody tr th {\n",
       "        vertical-align: top;\n",
       "    }\n",
       "\n",
       "    .dataframe thead th {\n",
       "        text-align: right;\n",
       "    }\n",
       "</style>\n",
       "<table border=\"1\" class=\"dataframe\">\n",
       "  <thead>\n",
       "    <tr style=\"text-align: right;\">\n",
       "      <th></th>\n",
       "      <th>Serial_No</th>\n",
       "      <th>GRE_Score</th>\n",
       "      <th>TOEFL_Score</th>\n",
       "      <th>University_Rating</th>\n",
       "      <th>SOP</th>\n",
       "      <th>LOR</th>\n",
       "      <th>CGPA</th>\n",
       "      <th>Research</th>\n",
       "      <th>Chance_of_Admit</th>\n",
       "    </tr>\n",
       "  </thead>\n",
       "  <tbody>\n",
       "    <tr>\n",
       "      <th>0</th>\n",
       "      <td>1</td>\n",
       "      <td>337</td>\n",
       "      <td>118</td>\n",
       "      <td>4</td>\n",
       "      <td>4.5</td>\n",
       "      <td>4.5</td>\n",
       "      <td>9.65</td>\n",
       "      <td>1</td>\n",
       "      <td>0.92</td>\n",
       "    </tr>\n",
       "    <tr>\n",
       "      <th>1</th>\n",
       "      <td>2</td>\n",
       "      <td>324</td>\n",
       "      <td>107</td>\n",
       "      <td>4</td>\n",
       "      <td>4.0</td>\n",
       "      <td>4.5</td>\n",
       "      <td>8.87</td>\n",
       "      <td>1</td>\n",
       "      <td>0.76</td>\n",
       "    </tr>\n",
       "    <tr>\n",
       "      <th>2</th>\n",
       "      <td>3</td>\n",
       "      <td>316</td>\n",
       "      <td>104</td>\n",
       "      <td>3</td>\n",
       "      <td>3.0</td>\n",
       "      <td>3.5</td>\n",
       "      <td>8.00</td>\n",
       "      <td>1</td>\n",
       "      <td>0.72</td>\n",
       "    </tr>\n",
       "    <tr>\n",
       "      <th>3</th>\n",
       "      <td>4</td>\n",
       "      <td>322</td>\n",
       "      <td>110</td>\n",
       "      <td>3</td>\n",
       "      <td>3.5</td>\n",
       "      <td>2.5</td>\n",
       "      <td>8.67</td>\n",
       "      <td>1</td>\n",
       "      <td>0.80</td>\n",
       "    </tr>\n",
       "    <tr>\n",
       "      <th>4</th>\n",
       "      <td>5</td>\n",
       "      <td>314</td>\n",
       "      <td>103</td>\n",
       "      <td>2</td>\n",
       "      <td>2.0</td>\n",
       "      <td>3.0</td>\n",
       "      <td>8.21</td>\n",
       "      <td>0</td>\n",
       "      <td>0.65</td>\n",
       "    </tr>\n",
       "  </tbody>\n",
       "</table>\n",
       "</div>"
      ],
      "text/plain": [
       "   Serial_No  GRE_Score  TOEFL_Score  University_Rating  SOP  LOR  CGPA  \\\n",
       "0          1        337          118                  4  4.5  4.5  9.65   \n",
       "1          2        324          107                  4  4.0  4.5  8.87   \n",
       "2          3        316          104                  3  3.0  3.5  8.00   \n",
       "3          4        322          110                  3  3.5  2.5  8.67   \n",
       "4          5        314          103                  2  2.0  3.0  8.21   \n",
       "\n",
       "   Research  Chance_of_Admit  \n",
       "0         1             0.92  \n",
       "1         1             0.76  \n",
       "2         1             0.72  \n",
       "3         1             0.80  \n",
       "4         0             0.65  "
      ]
     },
     "execution_count": 21,
     "metadata": {},
     "output_type": "execute_result"
    }
   ],
   "source": [
    "data = data.rename(columns={\"Serial No.\": \"Serial_No\", \"GRE Score\": \"GRE_Score\",\"TOEFL Score\": \"TOEFL_Score\", \"University Rating\": \"University_Rating\", \"LOR \": \"LOR\", \"Chance of Admit \": \"Chance_of_Admit\"})\n",
    "data.head()"
   ]
  },
  {
   "cell_type": "code",
   "execution_count": null,
   "metadata": {},
   "outputs": [
    {
     "name": "stdout",
     "output_type": "stream",
     "text": [
      "107.41\n",
      "107.0\n"
     ]
    }
   ],
   "source": [
    "print(data[\"TOEFL_Score\"].mean())\n",
    "print(data[\"TOEFL_Score\"].median())"
   ]
  },
  {
   "cell_type": "code",
   "execution_count": null,
   "metadata": {},
   "outputs": [
    {
     "name": "stderr",
     "output_type": "stream",
     "text": [
      "c:\\Users\\sarka\\AppData\\Local\\Programs\\Python\\Python311\\Lib\\site-packages\\numpy\\core\\fromnumeric.py:3643: FutureWarning: The behavior of DataFrame.std with axis=None is deprecated, in a future version this will reduce over both axes and return a scalar. To retain the old behavior, pass axis=0 (or do not pass axis)\n",
      "  return std(axis=axis, dtype=dtype, out=out, ddof=ddof, **kwargs)\n"
     ]
    },
    {
     "data": {
      "text/plain": [
       "Serial_No            115.469693\n",
       "GRE_Score             11.459295\n",
       "TOEFL_Score            6.061922\n",
       "University_Rating      1.142298\n",
       "SOP                    1.005609\n",
       "LOR                    0.897354\n",
       "CGPA                   0.595571\n",
       "Research               0.497739\n",
       "Chance_of_Admit        0.142431\n",
       "dtype: float64"
      ]
     },
     "execution_count": 23,
     "metadata": {},
     "output_type": "execute_result"
    }
   ],
   "source": [
    "np.std(data)"
   ]
  },
  {
   "cell_type": "code",
   "execution_count": null,
   "metadata": {},
   "outputs": [
    {
     "data": {
      "text/plain": [
       "<seaborn.axisgrid.FacetGrid at 0x1e61cb95e50>"
      ]
     },
     "execution_count": 24,
     "metadata": {},
     "output_type": "execute_result"
    },
    {
     "data": {
      "image/png": "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",
      "text/plain": [
       "<Figure size 500x500 with 1 Axes>"
      ]
     },
     "metadata": {},
     "output_type": "display_data"
    }
   ],
   "source": [
    "sns.displot(data=data, x=\"TOEFL_Score\", kde=True)"
   ]
  },
  {
   "cell_type": "code",
   "execution_count": null,
   "metadata": {},
   "outputs": [
    {
     "data": {
      "text/plain": [
       "NormaltestResult(statistic=11.070212103496331, pvalue=0.003945790155853822)"
      ]
     },
     "execution_count": 25,
     "metadata": {},
     "output_type": "execute_result"
    }
   ],
   "source": [
    "stats.normaltest(data[\"TOEFL_Score\"])"
   ]
  },
  {
   "cell_type": "markdown",
   "metadata": {},
   "source": [
    "TOEFL_Score nemá normální rozdělení."
   ]
  },
  {
   "cell_type": "code",
   "execution_count": null,
   "metadata": {},
   "outputs": [],
   "source": [
    "data_vyzkum_ano = data[data[\"Research\"] == 1]\n",
    "data_vyzkum_ne = data[data[\"Research\"] == 0]"
   ]
  },
  {
   "cell_type": "code",
   "execution_count": null,
   "metadata": {},
   "outputs": [
    {
     "name": "stdout",
     "output_type": "stream",
     "text": [
      "322.85388127853884\n",
      "309.49171270718233\n"
     ]
    }
   ],
   "source": [
    "print(data_vyzkum_ano[\"GRE_Score\"].mean())\n",
    "print(data_vyzkum_ne[\"GRE_Score\"].mean())"
   ]
  },
  {
   "cell_type": "markdown",
   "metadata": {},
   "source": [
    "H0: Mezi studenty, kteří mají a nemají zkušenost s výzkumem existuje statisticky významný rozdíl v GRE skóre.\n",
    "H1: Mezi studenty, kteří mají a nemají zkušenost s výzkumem neexistuje statisticky významný rozdíl v GRE skóre."
   ]
  },
  {
   "cell_type": "code",
   "execution_count": null,
   "metadata": {},
   "outputs": [
    {
     "data": {
      "text/plain": [
       "MannwhitneyuResult(statistic=33514.0, pvalue=1.1433386421648098e-32)"
      ]
     },
     "execution_count": 28,
     "metadata": {},
     "output_type": "execute_result"
    }
   ],
   "source": [
    "stats.mannwhitneyu(data_vyzkum_ano[\"GRE_Score\"],data_vyzkum_ne[\"GRE_Score\"])"
   ]
  },
  {
   "cell_type": "markdown",
   "metadata": {},
   "source": [
    "Protože p-hodnota je menší než 0.05 zamítlli jsme nulovou hypotézu a prokázali jsme, že mezi studenty, kteří mají a nemají zkušenost s výzkumem neexistuje statisticky významný rozdíl v GRE skóre."
   ]
  },
  {
   "cell_type": "code",
   "execution_count": null,
   "metadata": {},
   "outputs": [
    {
     "data": {
      "text/plain": [
       "<Axes: xlabel='TOEFL_Score', ylabel='GRE_Score'>"
      ]
     },
     "execution_count": 29,
     "metadata": {},
     "output_type": "execute_result"
    },
    {
     "data": {
      "image/png": "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",
      "text/plain": [
       "<Figure size 640x480 with 1 Axes>"
      ]
     },
     "metadata": {},
     "output_type": "display_data"
    }
   ],
   "source": [
    "sns.scatterplot(data=data, x=\"TOEFL_Score\", y=\"GRE_Score\")"
   ]
  },
  {
   "cell_type": "code",
   "execution_count": null,
   "metadata": {},
   "outputs": [
    {
     "data": {
      "text/html": [
       "<div>\n",
       "<style scoped>\n",
       "    .dataframe tbody tr th:only-of-type {\n",
       "        vertical-align: middle;\n",
       "    }\n",
       "\n",
       "    .dataframe tbody tr th {\n",
       "        vertical-align: top;\n",
       "    }\n",
       "\n",
       "    .dataframe thead th {\n",
       "        text-align: right;\n",
       "    }\n",
       "</style>\n",
       "<table border=\"1\" class=\"dataframe\">\n",
       "  <thead>\n",
       "    <tr style=\"text-align: right;\">\n",
       "      <th></th>\n",
       "      <th>Serial_No</th>\n",
       "      <th>GRE_Score</th>\n",
       "      <th>TOEFL_Score</th>\n",
       "      <th>University_Rating</th>\n",
       "      <th>SOP</th>\n",
       "      <th>LOR</th>\n",
       "      <th>CGPA</th>\n",
       "      <th>Research</th>\n",
       "      <th>Chance_of_Admit</th>\n",
       "    </tr>\n",
       "  </thead>\n",
       "  <tbody>\n",
       "    <tr>\n",
       "      <th>Serial_No</th>\n",
       "      <td>1.000000</td>\n",
       "      <td>-0.097526</td>\n",
       "      <td>-0.147932</td>\n",
       "      <td>-0.169948</td>\n",
       "      <td>-0.166932</td>\n",
       "      <td>-0.088221</td>\n",
       "      <td>-0.045608</td>\n",
       "      <td>-0.063138</td>\n",
       "      <td>0.042336</td>\n",
       "    </tr>\n",
       "    <tr>\n",
       "      <th>GRE_Score</th>\n",
       "      <td>-0.097526</td>\n",
       "      <td>1.000000</td>\n",
       "      <td>0.835977</td>\n",
       "      <td>0.668976</td>\n",
       "      <td>0.612831</td>\n",
       "      <td>0.557555</td>\n",
       "      <td>0.833060</td>\n",
       "      <td>0.580391</td>\n",
       "      <td>0.802610</td>\n",
       "    </tr>\n",
       "    <tr>\n",
       "      <th>TOEFL_Score</th>\n",
       "      <td>-0.147932</td>\n",
       "      <td>0.835977</td>\n",
       "      <td>1.000000</td>\n",
       "      <td>0.695590</td>\n",
       "      <td>0.657981</td>\n",
       "      <td>0.567721</td>\n",
       "      <td>0.828417</td>\n",
       "      <td>0.489858</td>\n",
       "      <td>0.791594</td>\n",
       "    </tr>\n",
       "    <tr>\n",
       "      <th>University_Rating</th>\n",
       "      <td>-0.169948</td>\n",
       "      <td>0.668976</td>\n",
       "      <td>0.695590</td>\n",
       "      <td>1.000000</td>\n",
       "      <td>0.734523</td>\n",
       "      <td>0.660123</td>\n",
       "      <td>0.746479</td>\n",
       "      <td>0.447783</td>\n",
       "      <td>0.711250</td>\n",
       "    </tr>\n",
       "    <tr>\n",
       "      <th>SOP</th>\n",
       "      <td>-0.166932</td>\n",
       "      <td>0.612831</td>\n",
       "      <td>0.657981</td>\n",
       "      <td>0.734523</td>\n",
       "      <td>1.000000</td>\n",
       "      <td>0.729593</td>\n",
       "      <td>0.718144</td>\n",
       "      <td>0.444029</td>\n",
       "      <td>0.675732</td>\n",
       "    </tr>\n",
       "    <tr>\n",
       "      <th>LOR</th>\n",
       "      <td>-0.088221</td>\n",
       "      <td>0.557555</td>\n",
       "      <td>0.567721</td>\n",
       "      <td>0.660123</td>\n",
       "      <td>0.729593</td>\n",
       "      <td>1.000000</td>\n",
       "      <td>0.670211</td>\n",
       "      <td>0.396859</td>\n",
       "      <td>0.669889</td>\n",
       "    </tr>\n",
       "    <tr>\n",
       "      <th>CGPA</th>\n",
       "      <td>-0.045608</td>\n",
       "      <td>0.833060</td>\n",
       "      <td>0.828417</td>\n",
       "      <td>0.746479</td>\n",
       "      <td>0.718144</td>\n",
       "      <td>0.670211</td>\n",
       "      <td>1.000000</td>\n",
       "      <td>0.521654</td>\n",
       "      <td>0.873289</td>\n",
       "    </tr>\n",
       "    <tr>\n",
       "      <th>Research</th>\n",
       "      <td>-0.063138</td>\n",
       "      <td>0.580391</td>\n",
       "      <td>0.489858</td>\n",
       "      <td>0.447783</td>\n",
       "      <td>0.444029</td>\n",
       "      <td>0.396859</td>\n",
       "      <td>0.521654</td>\n",
       "      <td>1.000000</td>\n",
       "      <td>0.553202</td>\n",
       "    </tr>\n",
       "    <tr>\n",
       "      <th>Chance_of_Admit</th>\n",
       "      <td>0.042336</td>\n",
       "      <td>0.802610</td>\n",
       "      <td>0.791594</td>\n",
       "      <td>0.711250</td>\n",
       "      <td>0.675732</td>\n",
       "      <td>0.669889</td>\n",
       "      <td>0.873289</td>\n",
       "      <td>0.553202</td>\n",
       "      <td>1.000000</td>\n",
       "    </tr>\n",
       "  </tbody>\n",
       "</table>\n",
       "</div>"
      ],
      "text/plain": [
       "                   Serial_No  GRE_Score  TOEFL_Score  University_Rating  \\\n",
       "Serial_No           1.000000  -0.097526    -0.147932          -0.169948   \n",
       "GRE_Score          -0.097526   1.000000     0.835977           0.668976   \n",
       "TOEFL_Score        -0.147932   0.835977     1.000000           0.695590   \n",
       "University_Rating  -0.169948   0.668976     0.695590           1.000000   \n",
       "SOP                -0.166932   0.612831     0.657981           0.734523   \n",
       "LOR                -0.088221   0.557555     0.567721           0.660123   \n",
       "CGPA               -0.045608   0.833060     0.828417           0.746479   \n",
       "Research           -0.063138   0.580391     0.489858           0.447783   \n",
       "Chance_of_Admit     0.042336   0.802610     0.791594           0.711250   \n",
       "\n",
       "                        SOP       LOR      CGPA  Research  Chance_of_Admit  \n",
       "Serial_No         -0.166932 -0.088221 -0.045608 -0.063138         0.042336  \n",
       "GRE_Score          0.612831  0.557555  0.833060  0.580391         0.802610  \n",
       "TOEFL_Score        0.657981  0.567721  0.828417  0.489858         0.791594  \n",
       "University_Rating  0.734523  0.660123  0.746479  0.447783         0.711250  \n",
       "SOP                1.000000  0.729593  0.718144  0.444029         0.675732  \n",
       "LOR                0.729593  1.000000  0.670211  0.396859         0.669889  \n",
       "CGPA               0.718144  0.670211  1.000000  0.521654         0.873289  \n",
       "Research           0.444029  0.396859  0.521654  1.000000         0.553202  \n",
       "Chance_of_Admit    0.675732  0.669889  0.873289  0.553202         1.000000  "
      ]
     },
     "execution_count": 30,
     "metadata": {},
     "output_type": "execute_result"
    }
   ],
   "source": [
    "data.corr()"
   ]
  },
  {
   "cell_type": "markdown",
   "metadata": {},
   "source": [
    "Hodnota korelace mezi TOEFL score a GRE score je vysoká a pozitivní."
   ]
  },
  {
   "cell_type": "code",
   "execution_count": null,
   "metadata": {},
   "outputs": [
    {
     "data": {
      "text/plain": [
       "<Axes: xlabel='Chance_of_Admit', ylabel='CGPA'>"
      ]
     },
     "execution_count": 31,
     "metadata": {},
     "output_type": "execute_result"
    },
    {
     "data": {
      "image/png": "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",
      "text/plain": [
       "<Figure size 640x480 with 1 Axes>"
      ]
     },
     "metadata": {},
     "output_type": "display_data"
    }
   ],
   "source": [
    "sns.regplot(data, x=\"Chance_of_Admit\", y=\"CGPA\")"
   ]
  },
  {
   "cell_type": "markdown",
   "metadata": {},
   "source": [
    "Vytvoření boxplot pro vysvětlovanou porměnnou šance na přijetí \"Chance_of_Admit\"."
   ]
  },
  {
   "cell_type": "code",
   "execution_count": null,
   "metadata": {},
   "outputs": [
    {
     "data": {
      "text/plain": [
       "<Axes: xlabel='Chance_of_Admit'>"
      ]
     },
     "execution_count": 32,
     "metadata": {},
     "output_type": "execute_result"
    },
    {
     "data": {
      "image/png": "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",
      "text/plain": [
       "<Figure size 640x480 with 1 Axes>"
      ]
     },
     "metadata": {},
     "output_type": "display_data"
    }
   ],
   "source": [
    "sns.boxplot(data, x=\"Chance_of_Admit\")"
   ]
  },
  {
   "cell_type": "markdown",
   "metadata": {},
   "source": [
    "Odlehé hodnoty vidíme v oblasti nízké šance na přijetí. Jednoduché pravidlo (rule of the thumb) doporučuje odstranit hodnoty s Cookovou vzdáleností vyšší než 1."
   ]
  },
  {
   "cell_type": "code",
   "execution_count": null,
   "metadata": {},
   "outputs": [
    {
     "data": {
      "text/html": [
       "<div>\n",
       "<style scoped>\n",
       "    .dataframe tbody tr th:only-of-type {\n",
       "        vertical-align: middle;\n",
       "    }\n",
       "\n",
       "    .dataframe tbody tr th {\n",
       "        vertical-align: top;\n",
       "    }\n",
       "\n",
       "    .dataframe thead th {\n",
       "        text-align: right;\n",
       "    }\n",
       "</style>\n",
       "<table border=\"1\" class=\"dataframe\">\n",
       "  <thead>\n",
       "    <tr style=\"text-align: right;\">\n",
       "      <th></th>\n",
       "      <th>Serial_No</th>\n",
       "      <th>GRE_Score</th>\n",
       "      <th>TOEFL_Score</th>\n",
       "      <th>University_Rating</th>\n",
       "      <th>SOP</th>\n",
       "      <th>LOR</th>\n",
       "      <th>CGPA</th>\n",
       "      <th>Research</th>\n",
       "      <th>Chance_of_Admit</th>\n",
       "      <th>Cook Distance</th>\n",
       "    </tr>\n",
       "  </thead>\n",
       "  <tbody>\n",
       "    <tr>\n",
       "      <th>0</th>\n",
       "      <td>1</td>\n",
       "      <td>337</td>\n",
       "      <td>118</td>\n",
       "      <td>4</td>\n",
       "      <td>4.5</td>\n",
       "      <td>4.5</td>\n",
       "      <td>9.65</td>\n",
       "      <td>1</td>\n",
       "      <td>0.92</td>\n",
       "      <td>5.171411e-08</td>\n",
       "    </tr>\n",
       "    <tr>\n",
       "      <th>1</th>\n",
       "      <td>2</td>\n",
       "      <td>324</td>\n",
       "      <td>107</td>\n",
       "      <td>4</td>\n",
       "      <td>4.0</td>\n",
       "      <td>4.5</td>\n",
       "      <td>8.87</td>\n",
       "      <td>1</td>\n",
       "      <td>0.76</td>\n",
       "      <td>1.245471e-04</td>\n",
       "    </tr>\n",
       "    <tr>\n",
       "      <th>2</th>\n",
       "      <td>3</td>\n",
       "      <td>316</td>\n",
       "      <td>104</td>\n",
       "      <td>3</td>\n",
       "      <td>3.0</td>\n",
       "      <td>3.5</td>\n",
       "      <td>8.00</td>\n",
       "      <td>1</td>\n",
       "      <td>0.72</td>\n",
       "      <td>6.242323e-03</td>\n",
       "    </tr>\n",
       "    <tr>\n",
       "      <th>3</th>\n",
       "      <td>4</td>\n",
       "      <td>322</td>\n",
       "      <td>110</td>\n",
       "      <td>3</td>\n",
       "      <td>3.5</td>\n",
       "      <td>2.5</td>\n",
       "      <td>8.67</td>\n",
       "      <td>1</td>\n",
       "      <td>0.80</td>\n",
       "      <td>5.162621e-03</td>\n",
       "    </tr>\n",
       "    <tr>\n",
       "      <th>4</th>\n",
       "      <td>5</td>\n",
       "      <td>314</td>\n",
       "      <td>103</td>\n",
       "      <td>2</td>\n",
       "      <td>2.0</td>\n",
       "      <td>3.0</td>\n",
       "      <td>8.21</td>\n",
       "      <td>0</td>\n",
       "      <td>0.65</td>\n",
       "      <td>2.000414e-03</td>\n",
       "    </tr>\n",
       "  </tbody>\n",
       "</table>\n",
       "</div>"
      ],
      "text/plain": [
       "   Serial_No  GRE_Score  TOEFL_Score  University_Rating  SOP  LOR  CGPA  \\\n",
       "0          1        337          118                  4  4.5  4.5  9.65   \n",
       "1          2        324          107                  4  4.0  4.5  8.87   \n",
       "2          3        316          104                  3  3.0  3.5  8.00   \n",
       "3          4        322          110                  3  3.5  2.5  8.67   \n",
       "4          5        314          103                  2  2.0  3.0  8.21   \n",
       "\n",
       "   Research  Chance_of_Admit  Cook Distance  \n",
       "0         1             0.92   5.171411e-08  \n",
       "1         1             0.76   1.245471e-04  \n",
       "2         1             0.72   6.242323e-03  \n",
       "3         1             0.80   5.162621e-03  \n",
       "4         0             0.65   2.000414e-03  "
      ]
     },
     "execution_count": 33,
     "metadata": {},
     "output_type": "execute_result"
    }
   ],
   "source": [
    "from statsmodels.stats.outliers_influence import OLSInfluence\n",
    "\n",
    "formula = \"Chance_of_Admit ~ Serial_No + GRE_Score + TOEFL_Score + University_Rating + SOP + LOR + CGPA + Research\"\n",
    "mod = smf.ols(formula=formula, data=data)\n",
    "results = mod.fit()\n",
    "influence = OLSInfluence(results)\n",
    "data['Cook Distance'] = influence.cooks_distance[0]\n",
    "data.head()"
   ]
  },
  {
   "cell_type": "code",
   "execution_count": null,
   "metadata": {},
   "outputs": [
    {
     "data": {
      "text/html": [
       "<table class=\"simpletable\">\n",
       "<caption>OLS Regression Results</caption>\n",
       "<tr>\n",
       "  <th>Dep. Variable:</th>     <td>Chance_of_Admit</td> <th>  R-squared:         </th> <td>   0.819</td> \n",
       "</tr>\n",
       "<tr>\n",
       "  <th>Model:</th>                   <td>OLS</td>       <th>  Adj. R-squared:    </th> <td>   0.815</td> \n",
       "</tr>\n",
       "<tr>\n",
       "  <th>Method:</th>             <td>Least Squares</td>  <th>  F-statistic:       </th> <td>   220.9</td> \n",
       "</tr>\n",
       "<tr>\n",
       "  <th>Date:</th>             <td>Sat, 11 May 2024</td> <th>  Prob (F-statistic):</th> <td>6.52e-140</td>\n",
       "</tr>\n",
       "<tr>\n",
       "  <th>Time:</th>                 <td>09:24:33</td>     <th>  Log-Likelihood:    </th> <td>  553.63</td> \n",
       "</tr>\n",
       "<tr>\n",
       "  <th>No. Observations:</th>      <td>   400</td>      <th>  AIC:               </th> <td>  -1089.</td> \n",
       "</tr>\n",
       "<tr>\n",
       "  <th>Df Residuals:</th>          <td>   391</td>      <th>  BIC:               </th> <td>  -1053.</td> \n",
       "</tr>\n",
       "<tr>\n",
       "  <th>Df Model:</th>              <td>     8</td>      <th>                     </th>     <td> </td>    \n",
       "</tr>\n",
       "<tr>\n",
       "  <th>Covariance Type:</th>      <td>nonrobust</td>    <th>                     </th>     <td> </td>    \n",
       "</tr>\n",
       "</table>\n",
       "<table class=\"simpletable\">\n",
       "<tr>\n",
       "          <td></td>             <th>coef</th>     <th>std err</th>      <th>t</th>      <th>P>|t|</th>  <th>[0.025</th>    <th>0.975]</th>  \n",
       "</tr>\n",
       "<tr>\n",
       "  <th>Intercept</th>         <td>   -1.2936</td> <td>    0.120</td> <td>  -10.775</td> <td> 0.000</td> <td>   -1.530</td> <td>   -1.058</td>\n",
       "</tr>\n",
       "<tr>\n",
       "  <th>Serial_No</th>         <td>    0.0002</td> <td> 2.77e-05</td> <td>    5.753</td> <td> 0.000</td> <td>    0.000</td> <td>    0.000</td>\n",
       "</tr>\n",
       "<tr>\n",
       "  <th>GRE_Score</th>         <td>    0.0018</td> <td>    0.001</td> <td>    3.129</td> <td> 0.002</td> <td>    0.001</td> <td>    0.003</td>\n",
       "</tr>\n",
       "<tr>\n",
       "  <th>TOEFL_Score</th>       <td>    0.0037</td> <td>    0.001</td> <td>    3.487</td> <td> 0.001</td> <td>    0.002</td> <td>    0.006</td>\n",
       "</tr>\n",
       "<tr>\n",
       "  <th>University_Rating</th> <td>    0.0088</td> <td>    0.005</td> <td>    1.903</td> <td> 0.058</td> <td>   -0.000</td> <td>    0.018</td>\n",
       "</tr>\n",
       "<tr>\n",
       "  <th>SOP</th>               <td> 9.937e-05</td> <td>    0.005</td> <td>    0.018</td> <td> 0.985</td> <td>   -0.010</td> <td>    0.011</td>\n",
       "</tr>\n",
       "<tr>\n",
       "  <th>LOR</th>               <td>    0.0215</td> <td>    0.005</td> <td>    4.041</td> <td> 0.000</td> <td>    0.011</td> <td>    0.032</td>\n",
       "</tr>\n",
       "<tr>\n",
       "  <th>CGPA</th>              <td>    0.1053</td> <td>    0.012</td> <td>    8.786</td> <td> 0.000</td> <td>    0.082</td> <td>    0.129</td>\n",
       "</tr>\n",
       "<tr>\n",
       "  <th>Research</th>          <td>    0.0244</td> <td>    0.008</td> <td>    3.185</td> <td> 0.002</td> <td>    0.009</td> <td>    0.039</td>\n",
       "</tr>\n",
       "</table>\n",
       "<table class=\"simpletable\">\n",
       "<tr>\n",
       "  <th>Omnibus:</th>       <td>65.071</td> <th>  Durbin-Watson:     </th> <td>   0.819</td>\n",
       "</tr>\n",
       "<tr>\n",
       "  <th>Prob(Omnibus):</th> <td> 0.000</td> <th>  Jarque-Bera (JB):  </th> <td> 111.066</td>\n",
       "</tr>\n",
       "<tr>\n",
       "  <th>Skew:</th>          <td>-0.955</td> <th>  Prob(JB):          </th> <td>7.62e-25</td>\n",
       "</tr>\n",
       "<tr>\n",
       "  <th>Kurtosis:</th>      <td> 4.737</td> <th>  Cond. No.          </th> <td>1.55e+04</td>\n",
       "</tr>\n",
       "</table><br/><br/>Notes:<br/>[1] Standard Errors assume that the covariance matrix of the errors is correctly specified.<br/>[2] The condition number is large, 1.55e+04. This might indicate that there are<br/>strong multicollinearity or other numerical problems."
      ],
      "text/latex": [
       "\\begin{center}\n",
       "\\begin{tabular}{lclc}\n",
       "\\toprule\n",
       "\\textbf{Dep. Variable:}     & Chance\\_of\\_Admit & \\textbf{  R-squared:         } &     0.819   \\\\\n",
       "\\textbf{Model:}             &        OLS        & \\textbf{  Adj. R-squared:    } &     0.815   \\\\\n",
       "\\textbf{Method:}            &   Least Squares   & \\textbf{  F-statistic:       } &     220.9   \\\\\n",
       "\\textbf{Date:}              &  Sat, 11 May 2024 & \\textbf{  Prob (F-statistic):} & 6.52e-140   \\\\\n",
       "\\textbf{Time:}              &      09:24:33     & \\textbf{  Log-Likelihood:    } &    553.63   \\\\\n",
       "\\textbf{No. Observations:}  &          400      & \\textbf{  AIC:               } &    -1089.   \\\\\n",
       "\\textbf{Df Residuals:}      &          391      & \\textbf{  BIC:               } &    -1053.   \\\\\n",
       "\\textbf{Df Model:}          &            8      & \\textbf{                     } &             \\\\\n",
       "\\textbf{Covariance Type:}   &     nonrobust     & \\textbf{                     } &             \\\\\n",
       "\\bottomrule\n",
       "\\end{tabular}\n",
       "\\begin{tabular}{lcccccc}\n",
       "                            & \\textbf{coef} & \\textbf{std err} & \\textbf{t} & \\textbf{P$> |$t$|$} & \\textbf{[0.025} & \\textbf{0.975]}  \\\\\n",
       "\\midrule\n",
       "\\textbf{Intercept}          &      -1.2936  &        0.120     &   -10.775  &         0.000        &       -1.530    &       -1.058     \\\\\n",
       "\\textbf{Serial\\_No}         &       0.0002  &     2.77e-05     &     5.753  &         0.000        &        0.000    &        0.000     \\\\\n",
       "\\textbf{GRE\\_Score}         &       0.0018  &        0.001     &     3.129  &         0.002        &        0.001    &        0.003     \\\\\n",
       "\\textbf{TOEFL\\_Score}       &       0.0037  &        0.001     &     3.487  &         0.001        &        0.002    &        0.006     \\\\\n",
       "\\textbf{University\\_Rating} &       0.0088  &        0.005     &     1.903  &         0.058        &       -0.000    &        0.018     \\\\\n",
       "\\textbf{SOP}                &    9.937e-05  &        0.005     &     0.018  &         0.985        &       -0.010    &        0.011     \\\\\n",
       "\\textbf{LOR}                &       0.0215  &        0.005     &     4.041  &         0.000        &        0.011    &        0.032     \\\\\n",
       "\\textbf{CGPA}               &       0.1053  &        0.012     &     8.786  &         0.000        &        0.082    &        0.129     \\\\\n",
       "\\textbf{Research}           &       0.0244  &        0.008     &     3.185  &         0.002        &        0.009    &        0.039     \\\\\n",
       "\\bottomrule\n",
       "\\end{tabular}\n",
       "\\begin{tabular}{lclc}\n",
       "\\textbf{Omnibus:}       & 65.071 & \\textbf{  Durbin-Watson:     } &    0.819  \\\\\n",
       "\\textbf{Prob(Omnibus):} &  0.000 & \\textbf{  Jarque-Bera (JB):  } &  111.066  \\\\\n",
       "\\textbf{Skew:}          & -0.955 & \\textbf{  Prob(JB):          } & 7.62e-25  \\\\\n",
       "\\textbf{Kurtosis:}      &  4.737 & \\textbf{  Cond. No.          } & 1.55e+04  \\\\\n",
       "\\bottomrule\n",
       "\\end{tabular}\n",
       "%\\caption{OLS Regression Results}\n",
       "\\end{center}\n",
       "\n",
       "Notes: \\newline\n",
       " [1] Standard Errors assume that the covariance matrix of the errors is correctly specified. \\newline\n",
       " [2] The condition number is large, 1.55e+04. This might indicate that there are \\newline\n",
       " strong multicollinearity or other numerical problems."
      ],
      "text/plain": [
       "<class 'statsmodels.iolib.summary.Summary'>\n",
       "\"\"\"\n",
       "                            OLS Regression Results                            \n",
       "==============================================================================\n",
       "Dep. Variable:        Chance_of_Admit   R-squared:                       0.819\n",
       "Model:                            OLS   Adj. R-squared:                  0.815\n",
       "Method:                 Least Squares   F-statistic:                     220.9\n",
       "Date:                Sat, 11 May 2024   Prob (F-statistic):          6.52e-140\n",
       "Time:                        09:24:33   Log-Likelihood:                 553.63\n",
       "No. Observations:                 400   AIC:                            -1089.\n",
       "Df Residuals:                     391   BIC:                            -1053.\n",
       "Df Model:                           8                                         \n",
       "Covariance Type:            nonrobust                                         \n",
       "=====================================================================================\n",
       "                        coef    std err          t      P>|t|      [0.025      0.975]\n",
       "-------------------------------------------------------------------------------------\n",
       "Intercept            -1.2936      0.120    -10.775      0.000      -1.530      -1.058\n",
       "Serial_No             0.0002   2.77e-05      5.753      0.000       0.000       0.000\n",
       "GRE_Score             0.0018      0.001      3.129      0.002       0.001       0.003\n",
       "TOEFL_Score           0.0037      0.001      3.487      0.001       0.002       0.006\n",
       "University_Rating     0.0088      0.005      1.903      0.058      -0.000       0.018\n",
       "SOP                9.937e-05      0.005      0.018      0.985      -0.010       0.011\n",
       "LOR                   0.0215      0.005      4.041      0.000       0.011       0.032\n",
       "CGPA                  0.1053      0.012      8.786      0.000       0.082       0.129\n",
       "Research              0.0244      0.008      3.185      0.002       0.009       0.039\n",
       "==============================================================================\n",
       "Omnibus:                       65.071   Durbin-Watson:                   0.819\n",
       "Prob(Omnibus):                  0.000   Jarque-Bera (JB):              111.066\n",
       "Skew:                          -0.955   Prob(JB):                     7.62e-25\n",
       "Kurtosis:                       4.737   Cond. No.                     1.55e+04\n",
       "==============================================================================\n",
       "\n",
       "Notes:\n",
       "[1] Standard Errors assume that the covariance matrix of the errors is correctly specified.\n",
       "[2] The condition number is large, 1.55e+04. This might indicate that there are\n",
       "strong multicollinearity or other numerical problems.\n",
       "\"\"\""
      ]
     },
     "execution_count": 34,
     "metadata": {},
     "output_type": "execute_result"
    }
   ],
   "source": [
    "data = data[data['Cook Distance'] < 1]\n",
    "mod = smf.ols(formula=formula, data=data)\n",
    "res = mod.fit()\n",
    "res.summary()"
   ]
  },
  {
   "cell_type": "markdown",
   "metadata": {},
   "source": [
    "Do rovnice pro lineární regresi nezahrnu Serial_No a SOP."
   ]
  },
  {
   "cell_type": "code",
   "execution_count": null,
   "metadata": {},
   "outputs": [
    {
     "data": {
      "text/html": [
       "<div>\n",
       "<style scoped>\n",
       "    .dataframe tbody tr th:only-of-type {\n",
       "        vertical-align: middle;\n",
       "    }\n",
       "\n",
       "    .dataframe tbody tr th {\n",
       "        vertical-align: top;\n",
       "    }\n",
       "\n",
       "    .dataframe thead th {\n",
       "        text-align: right;\n",
       "    }\n",
       "</style>\n",
       "<table border=\"1\" class=\"dataframe\">\n",
       "  <thead>\n",
       "    <tr style=\"text-align: right;\">\n",
       "      <th></th>\n",
       "      <th>Serial_No</th>\n",
       "      <th>GRE_Score</th>\n",
       "      <th>TOEFL_Score</th>\n",
       "      <th>University_Rating</th>\n",
       "      <th>SOP</th>\n",
       "      <th>LOR</th>\n",
       "      <th>CGPA</th>\n",
       "      <th>Research</th>\n",
       "      <th>Chance_of_Admit</th>\n",
       "      <th>Cook Distance</th>\n",
       "    </tr>\n",
       "  </thead>\n",
       "  <tbody>\n",
       "    <tr>\n",
       "      <th>0</th>\n",
       "      <td>1</td>\n",
       "      <td>337</td>\n",
       "      <td>118</td>\n",
       "      <td>4</td>\n",
       "      <td>4.5</td>\n",
       "      <td>4.5</td>\n",
       "      <td>9.65</td>\n",
       "      <td>1</td>\n",
       "      <td>0.92</td>\n",
       "      <td>0.000482</td>\n",
       "    </tr>\n",
       "    <tr>\n",
       "      <th>1</th>\n",
       "      <td>2</td>\n",
       "      <td>324</td>\n",
       "      <td>107</td>\n",
       "      <td>4</td>\n",
       "      <td>4.0</td>\n",
       "      <td>4.5</td>\n",
       "      <td>8.87</td>\n",
       "      <td>1</td>\n",
       "      <td>0.76</td>\n",
       "      <td>0.000859</td>\n",
       "    </tr>\n",
       "    <tr>\n",
       "      <th>2</th>\n",
       "      <td>3</td>\n",
       "      <td>316</td>\n",
       "      <td>104</td>\n",
       "      <td>3</td>\n",
       "      <td>3.0</td>\n",
       "      <td>3.5</td>\n",
       "      <td>8.00</td>\n",
       "      <td>1</td>\n",
       "      <td>0.72</td>\n",
       "      <td>0.002671</td>\n",
       "    </tr>\n",
       "    <tr>\n",
       "      <th>3</th>\n",
       "      <td>4</td>\n",
       "      <td>322</td>\n",
       "      <td>110</td>\n",
       "      <td>3</td>\n",
       "      <td>3.5</td>\n",
       "      <td>2.5</td>\n",
       "      <td>8.67</td>\n",
       "      <td>1</td>\n",
       "      <td>0.80</td>\n",
       "      <td>0.001598</td>\n",
       "    </tr>\n",
       "    <tr>\n",
       "      <th>4</th>\n",
       "      <td>5</td>\n",
       "      <td>314</td>\n",
       "      <td>103</td>\n",
       "      <td>2</td>\n",
       "      <td>2.0</td>\n",
       "      <td>3.0</td>\n",
       "      <td>8.21</td>\n",
       "      <td>0</td>\n",
       "      <td>0.65</td>\n",
       "      <td>0.000100</td>\n",
       "    </tr>\n",
       "  </tbody>\n",
       "</table>\n",
       "</div>"
      ],
      "text/plain": [
       "   Serial_No  GRE_Score  TOEFL_Score  University_Rating  SOP  LOR  CGPA  \\\n",
       "0          1        337          118                  4  4.5  4.5  9.65   \n",
       "1          2        324          107                  4  4.0  4.5  8.87   \n",
       "2          3        316          104                  3  3.0  3.5  8.00   \n",
       "3          4        322          110                  3  3.5  2.5  8.67   \n",
       "4          5        314          103                  2  2.0  3.0  8.21   \n",
       "\n",
       "   Research  Chance_of_Admit  Cook Distance  \n",
       "0         1             0.92       0.000482  \n",
       "1         1             0.76       0.000859  \n",
       "2         1             0.72       0.002671  \n",
       "3         1             0.80       0.001598  \n",
       "4         0             0.65       0.000100  "
      ]
     },
     "execution_count": 35,
     "metadata": {},
     "output_type": "execute_result"
    }
   ],
   "source": [
    "from statsmodels.stats.outliers_influence import OLSInfluence\n",
    "\n",
    "formula = \"Chance_of_Admit ~ GRE_Score + TOEFL_Score + University_Rating + LOR + CGPA + Research\"\n",
    "mod = smf.ols(formula=formula, data=data)\n",
    "results = mod.fit()\n",
    "influence = OLSInfluence(results)\n",
    "data['Cook Distance'] = influence.cooks_distance[0]\n",
    "data.head()"
   ]
  },
  {
   "cell_type": "code",
   "execution_count": null,
   "metadata": {},
   "outputs": [
    {
     "data": {
      "text/html": [
       "<table class=\"simpletable\">\n",
       "<caption>OLS Regression Results</caption>\n",
       "<tr>\n",
       "  <th>Dep. Variable:</th>     <td>Chance_of_Admit</td> <th>  R-squared:         </th> <td>   0.803</td> \n",
       "</tr>\n",
       "<tr>\n",
       "  <th>Model:</th>                   <td>OLS</td>       <th>  Adj. R-squared:    </th> <td>   0.800</td> \n",
       "</tr>\n",
       "<tr>\n",
       "  <th>Method:</th>             <td>Least Squares</td>  <th>  F-statistic:       </th> <td>   267.5</td> \n",
       "</tr>\n",
       "<tr>\n",
       "  <th>Date:</th>             <td>Sat, 11 May 2024</td> <th>  Prob (F-statistic):</th> <td>2.18e-135</td>\n",
       "</tr>\n",
       "<tr>\n",
       "  <th>Time:</th>                 <td>09:24:33</td>     <th>  Log-Likelihood:    </th> <td>  537.19</td> \n",
       "</tr>\n",
       "<tr>\n",
       "  <th>No. Observations:</th>      <td>   400</td>      <th>  AIC:               </th> <td>  -1060.</td> \n",
       "</tr>\n",
       "<tr>\n",
       "  <th>Df Residuals:</th>          <td>   393</td>      <th>  BIC:               </th> <td>  -1032.</td> \n",
       "</tr>\n",
       "<tr>\n",
       "  <th>Df Model:</th>              <td>     6</td>      <th>                     </th>     <td> </td>    \n",
       "</tr>\n",
       "<tr>\n",
       "  <th>Covariance Type:</th>      <td>nonrobust</td>    <th>                     </th>     <td> </td>    \n",
       "</tr>\n",
       "</table>\n",
       "<table class=\"simpletable\">\n",
       "<tr>\n",
       "          <td></td>             <th>coef</th>     <th>std err</th>      <th>t</th>      <th>P>|t|</th>  <th>[0.025</th>    <th>0.975]</th>  \n",
       "</tr>\n",
       "<tr>\n",
       "  <th>Intercept</th>         <td>   -1.2543</td> <td>    0.124</td> <td>  -10.089</td> <td> 0.000</td> <td>   -1.499</td> <td>   -1.010</td>\n",
       "</tr>\n",
       "<tr>\n",
       "  <th>GRE_Score</th>         <td>    0.0018</td> <td>    0.001</td> <td>    2.962</td> <td> 0.003</td> <td>    0.001</td> <td>    0.003</td>\n",
       "</tr>\n",
       "<tr>\n",
       "  <th>TOEFL_Score</th>       <td>    0.0028</td> <td>    0.001</td> <td>    2.628</td> <td> 0.009</td> <td>    0.001</td> <td>    0.005</td>\n",
       "</tr>\n",
       "<tr>\n",
       "  <th>University_Rating</th> <td>    0.0049</td> <td>    0.005</td> <td>    1.069</td> <td> 0.286</td> <td>   -0.004</td> <td>    0.014</td>\n",
       "</tr>\n",
       "<tr>\n",
       "  <th>LOR</th>               <td>    0.0210</td> <td>    0.005</td> <td>    4.147</td> <td> 0.000</td> <td>    0.011</td> <td>    0.031</td>\n",
       "</tr>\n",
       "<tr>\n",
       "  <th>CGPA</th>              <td>    0.1179</td> <td>    0.012</td> <td>    9.756</td> <td> 0.000</td> <td>    0.094</td> <td>    0.142</td>\n",
       "</tr>\n",
       "<tr>\n",
       "  <th>Research</th>          <td>    0.0242</td> <td>    0.008</td> <td>    3.046</td> <td> 0.002</td> <td>    0.009</td> <td>    0.040</td>\n",
       "</tr>\n",
       "</table>\n",
       "<table class=\"simpletable\">\n",
       "<tr>\n",
       "  <th>Omnibus:</th>       <td>89.012</td> <th>  Durbin-Watson:     </th> <td>   0.748</td>\n",
       "</tr>\n",
       "<tr>\n",
       "  <th>Prob(Omnibus):</th> <td> 0.000</td> <th>  Jarque-Bera (JB):  </th> <td> 184.552</td>\n",
       "</tr>\n",
       "<tr>\n",
       "  <th>Skew:</th>          <td>-1.171</td> <th>  Prob(JB):          </th> <td>8.41e-41</td>\n",
       "</tr>\n",
       "<tr>\n",
       "  <th>Kurtosis:</th>      <td> 5.364</td> <th>  Cond. No.          </th> <td>1.31e+04</td>\n",
       "</tr>\n",
       "</table><br/><br/>Notes:<br/>[1] Standard Errors assume that the covariance matrix of the errors is correctly specified.<br/>[2] The condition number is large, 1.31e+04. This might indicate that there are<br/>strong multicollinearity or other numerical problems."
      ],
      "text/latex": [
       "\\begin{center}\n",
       "\\begin{tabular}{lclc}\n",
       "\\toprule\n",
       "\\textbf{Dep. Variable:}     & Chance\\_of\\_Admit & \\textbf{  R-squared:         } &     0.803   \\\\\n",
       "\\textbf{Model:}             &        OLS        & \\textbf{  Adj. R-squared:    } &     0.800   \\\\\n",
       "\\textbf{Method:}            &   Least Squares   & \\textbf{  F-statistic:       } &     267.5   \\\\\n",
       "\\textbf{Date:}              &  Sat, 11 May 2024 & \\textbf{  Prob (F-statistic):} & 2.18e-135   \\\\\n",
       "\\textbf{Time:}              &      09:24:33     & \\textbf{  Log-Likelihood:    } &    537.19   \\\\\n",
       "\\textbf{No. Observations:}  &          400      & \\textbf{  AIC:               } &    -1060.   \\\\\n",
       "\\textbf{Df Residuals:}      &          393      & \\textbf{  BIC:               } &    -1032.   \\\\\n",
       "\\textbf{Df Model:}          &            6      & \\textbf{                     } &             \\\\\n",
       "\\textbf{Covariance Type:}   &     nonrobust     & \\textbf{                     } &             \\\\\n",
       "\\bottomrule\n",
       "\\end{tabular}\n",
       "\\begin{tabular}{lcccccc}\n",
       "                            & \\textbf{coef} & \\textbf{std err} & \\textbf{t} & \\textbf{P$> |$t$|$} & \\textbf{[0.025} & \\textbf{0.975]}  \\\\\n",
       "\\midrule\n",
       "\\textbf{Intercept}          &      -1.2543  &        0.124     &   -10.089  &         0.000        &       -1.499    &       -1.010     \\\\\n",
       "\\textbf{GRE\\_Score}         &       0.0018  &        0.001     &     2.962  &         0.003        &        0.001    &        0.003     \\\\\n",
       "\\textbf{TOEFL\\_Score}       &       0.0028  &        0.001     &     2.628  &         0.009        &        0.001    &        0.005     \\\\\n",
       "\\textbf{University\\_Rating} &       0.0049  &        0.005     &     1.069  &         0.286        &       -0.004    &        0.014     \\\\\n",
       "\\textbf{LOR}                &       0.0210  &        0.005     &     4.147  &         0.000        &        0.011    &        0.031     \\\\\n",
       "\\textbf{CGPA}               &       0.1179  &        0.012     &     9.756  &         0.000        &        0.094    &        0.142     \\\\\n",
       "\\textbf{Research}           &       0.0242  &        0.008     &     3.046  &         0.002        &        0.009    &        0.040     \\\\\n",
       "\\bottomrule\n",
       "\\end{tabular}\n",
       "\\begin{tabular}{lclc}\n",
       "\\textbf{Omnibus:}       & 89.012 & \\textbf{  Durbin-Watson:     } &    0.748  \\\\\n",
       "\\textbf{Prob(Omnibus):} &  0.000 & \\textbf{  Jarque-Bera (JB):  } &  184.552  \\\\\n",
       "\\textbf{Skew:}          & -1.171 & \\textbf{  Prob(JB):          } & 8.41e-41  \\\\\n",
       "\\textbf{Kurtosis:}      &  5.364 & \\textbf{  Cond. No.          } & 1.31e+04  \\\\\n",
       "\\bottomrule\n",
       "\\end{tabular}\n",
       "%\\caption{OLS Regression Results}\n",
       "\\end{center}\n",
       "\n",
       "Notes: \\newline\n",
       " [1] Standard Errors assume that the covariance matrix of the errors is correctly specified. \\newline\n",
       " [2] The condition number is large, 1.31e+04. This might indicate that there are \\newline\n",
       " strong multicollinearity or other numerical problems."
      ],
      "text/plain": [
       "<class 'statsmodels.iolib.summary.Summary'>\n",
       "\"\"\"\n",
       "                            OLS Regression Results                            \n",
       "==============================================================================\n",
       "Dep. Variable:        Chance_of_Admit   R-squared:                       0.803\n",
       "Model:                            OLS   Adj. R-squared:                  0.800\n",
       "Method:                 Least Squares   F-statistic:                     267.5\n",
       "Date:                Sat, 11 May 2024   Prob (F-statistic):          2.18e-135\n",
       "Time:                        09:24:33   Log-Likelihood:                 537.19\n",
       "No. Observations:                 400   AIC:                            -1060.\n",
       "Df Residuals:                     393   BIC:                            -1032.\n",
       "Df Model:                           6                                         \n",
       "Covariance Type:            nonrobust                                         \n",
       "=====================================================================================\n",
       "                        coef    std err          t      P>|t|      [0.025      0.975]\n",
       "-------------------------------------------------------------------------------------\n",
       "Intercept            -1.2543      0.124    -10.089      0.000      -1.499      -1.010\n",
       "GRE_Score             0.0018      0.001      2.962      0.003       0.001       0.003\n",
       "TOEFL_Score           0.0028      0.001      2.628      0.009       0.001       0.005\n",
       "University_Rating     0.0049      0.005      1.069      0.286      -0.004       0.014\n",
       "LOR                   0.0210      0.005      4.147      0.000       0.011       0.031\n",
       "CGPA                  0.1179      0.012      9.756      0.000       0.094       0.142\n",
       "Research              0.0242      0.008      3.046      0.002       0.009       0.040\n",
       "==============================================================================\n",
       "Omnibus:                       89.012   Durbin-Watson:                   0.748\n",
       "Prob(Omnibus):                  0.000   Jarque-Bera (JB):              184.552\n",
       "Skew:                          -1.171   Prob(JB):                     8.41e-41\n",
       "Kurtosis:                       5.364   Cond. No.                     1.31e+04\n",
       "==============================================================================\n",
       "\n",
       "Notes:\n",
       "[1] Standard Errors assume that the covariance matrix of the errors is correctly specified.\n",
       "[2] The condition number is large, 1.31e+04. This might indicate that there are\n",
       "strong multicollinearity or other numerical problems.\n",
       "\"\"\""
      ]
     },
     "execution_count": 36,
     "metadata": {},
     "output_type": "execute_result"
    }
   ],
   "source": [
    "data = data[data['Cook Distance'] < 1]\n",
    "mod = smf.ols(formula=formula, data=data)\n",
    "res = mod.fit()\n",
    "res.summary()"
   ]
  },
  {
   "cell_type": "code",
   "execution_count": null,
   "metadata": {},
   "outputs": [
    {
     "data": {
      "text/html": [
       "<div>\n",
       "<style scoped>\n",
       "    .dataframe tbody tr th:only-of-type {\n",
       "        vertical-align: middle;\n",
       "    }\n",
       "\n",
       "    .dataframe tbody tr th {\n",
       "        vertical-align: top;\n",
       "    }\n",
       "\n",
       "    .dataframe thead th {\n",
       "        text-align: right;\n",
       "    }\n",
       "</style>\n",
       "<table border=\"1\" class=\"dataframe\">\n",
       "  <thead>\n",
       "    <tr style=\"text-align: right;\">\n",
       "      <th></th>\n",
       "      <th>Serial_No</th>\n",
       "      <th>GRE_Score</th>\n",
       "      <th>TOEFL_Score</th>\n",
       "      <th>University_Rating</th>\n",
       "      <th>SOP</th>\n",
       "      <th>LOR</th>\n",
       "      <th>CGPA</th>\n",
       "      <th>Research</th>\n",
       "      <th>Chance_of_Admit</th>\n",
       "      <th>Cook Distance</th>\n",
       "      <th>Predicted</th>\n",
       "    </tr>\n",
       "  </thead>\n",
       "  <tbody>\n",
       "    <tr>\n",
       "      <th>0</th>\n",
       "      <td>1</td>\n",
       "      <td>337</td>\n",
       "      <td>118</td>\n",
       "      <td>4</td>\n",
       "      <td>4.5</td>\n",
       "      <td>4.5</td>\n",
       "      <td>9.65</td>\n",
       "      <td>1</td>\n",
       "      <td>0.92</td>\n",
       "      <td>0.000482</td>\n",
       "      <td>0.951365</td>\n",
       "    </tr>\n",
       "    <tr>\n",
       "      <th>1</th>\n",
       "      <td>2</td>\n",
       "      <td>324</td>\n",
       "      <td>107</td>\n",
       "      <td>4</td>\n",
       "      <td>4.0</td>\n",
       "      <td>4.5</td>\n",
       "      <td>8.87</td>\n",
       "      <td>1</td>\n",
       "      <td>0.76</td>\n",
       "      <td>0.000859</td>\n",
       "      <td>0.805230</td>\n",
       "    </tr>\n",
       "    <tr>\n",
       "      <th>2</th>\n",
       "      <td>3</td>\n",
       "      <td>316</td>\n",
       "      <td>104</td>\n",
       "      <td>3</td>\n",
       "      <td>3.0</td>\n",
       "      <td>3.5</td>\n",
       "      <td>8.00</td>\n",
       "      <td>1</td>\n",
       "      <td>0.72</td>\n",
       "      <td>0.002671</td>\n",
       "      <td>0.654131</td>\n",
       "    </tr>\n",
       "    <tr>\n",
       "      <th>3</th>\n",
       "      <td>4</td>\n",
       "      <td>322</td>\n",
       "      <td>110</td>\n",
       "      <td>3</td>\n",
       "      <td>3.5</td>\n",
       "      <td>2.5</td>\n",
       "      <td>8.67</td>\n",
       "      <td>1</td>\n",
       "      <td>0.80</td>\n",
       "      <td>0.001598</td>\n",
       "      <td>0.739717</td>\n",
       "    </tr>\n",
       "    <tr>\n",
       "      <th>4</th>\n",
       "      <td>5</td>\n",
       "      <td>314</td>\n",
       "      <td>103</td>\n",
       "      <td>2</td>\n",
       "      <td>2.0</td>\n",
       "      <td>3.0</td>\n",
       "      <td>8.21</td>\n",
       "      <td>0</td>\n",
       "      <td>0.65</td>\n",
       "      <td>0.000100</td>\n",
       "      <td>0.632999</td>\n",
       "    </tr>\n",
       "  </tbody>\n",
       "</table>\n",
       "</div>"
      ],
      "text/plain": [
       "   Serial_No  GRE_Score  TOEFL_Score  University_Rating  SOP  LOR  CGPA  \\\n",
       "0          1        337          118                  4  4.5  4.5  9.65   \n",
       "1          2        324          107                  4  4.0  4.5  8.87   \n",
       "2          3        316          104                  3  3.0  3.5  8.00   \n",
       "3          4        322          110                  3  3.5  2.5  8.67   \n",
       "4          5        314          103                  2  2.0  3.0  8.21   \n",
       "\n",
       "   Research  Chance_of_Admit  Cook Distance  Predicted  \n",
       "0         1             0.92       0.000482   0.951365  \n",
       "1         1             0.76       0.000859   0.805230  \n",
       "2         1             0.72       0.002671   0.654131  \n",
       "3         1             0.80       0.001598   0.739717  \n",
       "4         0             0.65       0.000100   0.632999  "
      ]
     },
     "execution_count": 37,
     "metadata": {},
     "output_type": "execute_result"
    }
   ],
   "source": [
    "data[\"Predicted\"] = res.predict(data)\n",
    "data.head()"
   ]
  },
  {
   "cell_type": "markdown",
   "metadata": {},
   "source": [
    "Statisticky významné koeficienty jsou CGPA, LOR, Research, GRE a LOEFL, zatílmco University_Rating má menší vliv."
   ]
  },
  {
   "cell_type": "markdown",
   "metadata": {},
   "source": [
    "Koeficient determinace je 0.803 "
   ]
  },
  {
   "cell_type": "code",
   "execution_count": null,
   "metadata": {},
   "outputs": [
    {
     "data": {
      "text/plain": [
       "<Axes: xlabel='Cook Distance', ylabel='Count'>"
      ]
     },
     "execution_count": 38,
     "metadata": {},
     "output_type": "execute_result"
    },
    {
     "data": {
      "image/png": "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",
      "text/plain": [
       "<Figure size 640x480 with 1 Axes>"
      ]
     },
     "metadata": {},
     "output_type": "display_data"
    }
   ],
   "source": [
    "sns.histplot(data=data, x=\"Cook Distance\")"
   ]
  }
 ],
 "metadata": {
  "kernelspec": {
   "display_name": "Python 3",
   "language": "python",
   "name": "python3"
  },
  "language_info": {
   "codemirror_mode": {
    "name": "ipython",
    "version": 3
   },
   "file_extension": ".py",
   "mimetype": "text/x-python",
   "name": "python",
   "nbconvert_exporter": "python",
   "pygments_lexer": "ipython3",
   "version": "3.11.3"
  }
 },
 "nbformat": 4,
 "nbformat_minor": 2
}
